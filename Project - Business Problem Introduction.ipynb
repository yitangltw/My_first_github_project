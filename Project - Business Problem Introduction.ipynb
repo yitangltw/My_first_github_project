{
 "cells": [
  {
   "cell_type": "markdown",
   "metadata": {},
   "source": [
    "# Business Problem Introduction #"
   ]
  },
  {
   "cell_type": "markdown",
   "metadata": {},
   "source": [
    "If you want to open up your own business, what's the first thing that comes to your mind? Here's some suggestions: build an electric car brand that has state-of-art autonomous driving and battery technology, and by the way make some rockets that can perform off-shore landing, E-A-S-Y. Well...you and I probably just realized that we're not Elon, but there's still hope! Unlike a lot of businesses that require deep expertise and/or enourmous capital to kickstart, opening a coffee cart business needs neither. It only takes as little as $2500 to start your own coffee cart business!\n",
    "<br><br>\n",
    "<a href=\"https://ferlabikes.com/ferla-mini\"><img src = \"https://ferlabikes.com/wp-content/uploads/2019/05/ferla_mini_gallery_01.jpg\" width = 450> </a> \n",
    "<br><br>\n",
    "To operate a successful coffee cart business, you'll need to know **where you're customers are at**. Coffee has become a necessity for people in the modern era, and this is more so the case for office workers that are sleep-deprived. In this notebook, I'll utilize the dataset containing <a href=\"https://data.nat.gov.tw/comment/539679\">in and out of station passenger number of each MRT(Mass Rapid Transit) station in the greater Taipei area</a>, and also the data from <a href=\"https://developer.foursquare.com/places\">Foursqaure API calls</a> to **identify the best location(MRT station) to open a coffee cart business targeting office workers in Taipei, Taiwan**."
   ]
  },
  {
   "cell_type": "markdown",
   "metadata": {},
   "source": [
    "In short, I will be utilizing k-means clustering to identify the MRT stations that have a high outflow of passengers (exiting station) during the morning, and a high inflow of passengers (entering station) during the evening on the weekdays. Also, there should be less passengers during the weekend for stations in this cluster. These are the characteristics of a MRT station that mainly serves office workers."
   ]
  },
  {
   "cell_type": "markdown",
   "metadata": {},
   "source": [
    "Later, I will utilize API calls to search for the number of coffee shops in vicinity of the MRT stations. I will then **identify the stations that has high passenger number but less coffee shops around**. Areas around  these stations would be an ideal place to start a coffee cart business!"
   ]
  }
 ],
 "metadata": {
  "kernelspec": {
   "display_name": "Python 3",
   "language": "python",
   "name": "python3"
  },
  "language_info": {
   "codemirror_mode": {
    "name": "ipython",
    "version": 3
   },
   "file_extension": ".py",
   "mimetype": "text/x-python",
   "name": "python",
   "nbconvert_exporter": "python",
   "pygments_lexer": "ipython3",
   "version": "3.8.3"
  }
 },
 "nbformat": 4,
 "nbformat_minor": 4
}
